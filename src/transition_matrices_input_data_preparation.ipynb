{
 "cells": [
  {
   "cell_type": "markdown",
   "id": "edeaba0f-f70e-4362-af56-07d6cf244f0d",
   "metadata": {},
   "source": [
    "# Transition Matrices: input data preparation"
   ]
  },
  {
   "cell_type": "markdown",
   "id": "069395d8-f98f-4d70-b54b-2178f393aea2",
   "metadata": {},
   "source": [
    "## 1. Aggregations by company and year"
   ]
  },
  {
   "cell_type": "code",
   "execution_count": null,
   "id": "fc0c36b4-6959-41f3-b2d5-47d3a6d73d77",
   "metadata": {},
   "outputs": [],
   "source": [
    "import pandas as pd\n",
    "import numpy as np\n",
    "import os\n",
    "from time import time\n",
    "\n",
    "print('The script is running...')\n",
    "t_start = time()\n",
    "\n",
    "path_parent_dir = os.path.dirname(os.getcwd())\n",
    "path_data = f'{path_parent_dir}\\data'\n",
    "path_data_web_scraper = f'{path_data}\\web_scraper'\n",
    "path_data_input = f'{path_data}\\input_data'\n",
    "\n",
    "df_fortune_rank = pd.read_csv(f'{path_data_web_scraper}/fortune_ranking_global_500.csv',sep=';')\n",
    "df_fortune_rank['value_rec'] = np.where(df_fortune_rank['value']<=0, 0, df_fortune_rank['value'])\n",
    "df_fortune_rank = df_fortune_rank.sort_values(by=['year','measure', 'value'], ascending=[True, True, False])                                  \n",
    "df_fortune_rank = df_fortune_rank.reset_index(drop=True)  \n",
    "df_fortune_rank['sum'] = df_fortune_rank.groupby(['year', 'measure'])['value_rec'].transform('sum').astype(int)\n",
    "df_fortune_rank['cum_sum'] = df_fortune_rank.groupby(['year', 'measure'])['value_rec'].cumsum(axis=0).astype(int)\n",
    "df_fortune_rank['cum_perc'] = np.where(df_fortune_rank['value_rec']<=0, 0, df_fortune_rank['cum_sum']/df_fortune_rank['sum'])\n",
    "df_fortune_rank['rank'] = df_fortune_rank.groupby(['year', 'measure'])['value'].rank('dense', ascending=False)"
   ]
  },
  {
   "cell_type": "markdown",
   "id": "f47ae2bc-98cd-4f61-b093-28ca2725ea87",
   "metadata": {},
   "source": [
    "## 2. Matrix class assignment"
   ]
  },
  {
   "cell_type": "code",
   "execution_count": null,
   "id": "53c94e88-c0c0-4fa8-beaa-2d623b92f359",
   "metadata": {},
   "outputs": [],
   "source": [
    "conditions_class = [((df_fortune_rank['cum_perc']>0) & (df_fortune_rank['cum_perc']<=.1))\n",
    "                    |\n",
    "                    ((df_fortune_rank['rank']==1) & (df_fortune_rank['cum_perc']>0)),\n",
    "                    (df_fortune_rank['cum_perc']>.1) & (df_fortune_rank['cum_perc']<=.2),\n",
    "                    (df_fortune_rank['cum_perc']>.2) & (df_fortune_rank['cum_perc']<=.3),\n",
    "                    (df_fortune_rank['cum_perc']>.3) & (df_fortune_rank['cum_perc']<=.4),\n",
    "                    (df_fortune_rank['cum_perc']>.4) & (df_fortune_rank['cum_perc']<=.5),        \n",
    "                    (df_fortune_rank['cum_perc']>.5) & (df_fortune_rank['cum_perc']<=.6),        \n",
    "                    (df_fortune_rank['cum_perc']>.6) & (df_fortune_rank['cum_perc']<=.7),        \n",
    "                    (df_fortune_rank['cum_perc']>.7) & (df_fortune_rank['cum_perc']<=.8),                     \n",
    "                    (df_fortune_rank['cum_perc']>.8) & (df_fortune_rank['cum_perc']<=.9),                     \n",
    "                    (df_fortune_rank['cum_perc']>.9),\n",
    "                    (df_fortune_rank['cum_perc']<=0)]\n",
    "\n",
    "actions_class = [']0% ; 10%]',']10% ; 20%]',']20% ; 30%]',']30% ; 40%]',']40% ; 50%]',\n",
    "                 ']50% ; 60%]',']60% ; 70%]',']70% ; 80%]',']80% ; 90%]',']90% ; 100%]','<=0'] \n",
    "\n",
    "df_fortune_rank['matrix_class'] = np.select(conditions_class,actions_class,default='N/A')"
   ]
  },
  {
   "cell_type": "markdown",
   "id": "82289d19-8552-4b7a-978f-4dbb3a9d09a2",
   "metadata": {},
   "source": [
    "## 3. Data pivoting and cleaning"
   ]
  },
  {
   "cell_type": "code",
   "execution_count": null,
   "id": "b066de01-5ab9-400f-bbfd-f63ca015893f",
   "metadata": {},
   "outputs": [],
   "source": [
    "df_fortune_rank_tm = df_fortune_rank.iloc[:,np.r_[0:4,-2:0]].copy() \n",
    "df_fortune_rank_tm = df_fortune_rank_tm.pivot(index=['name','measure'], columns='year').reset_index()\n",
    "df_fortune_rank_tm.columns = [f'{i}' if 'name' in i or 'measure' in i else f'{i}_{j}' for i, j in df_fortune_rank_tm.columns]\n",
    "list_num_cols = df_fortune_rank_tm.select_dtypes(include=np.number).columns.tolist()\n",
    "df_fortune_rank_tm[list_num_cols] = df_fortune_rank_tm[list_num_cols].fillna(0)\n",
    "df_fortune_rank_tm.iloc[:,np.r_[-4:0]] = df_fortune_rank_tm.iloc[:,np.r_[-4:0]].fillna('na_class')\n",
    "df_fortune_rank_tm.to_csv(f'{path_data_input}/transition_matrices_input.csv', header=True, index=False, encoding='utf-8-sig',sep=';')\n",
    "print(\"...it has been successfully executed in %0.1fs.\" % (time() - t_start))"
   ]
  }
 ],
 "metadata": {
  "kernelspec": {
   "display_name": "Python 3 (ipykernel)",
   "language": "python",
   "name": "python3"
  },
  "language_info": {
   "codemirror_mode": {
    "name": "ipython",
    "version": 3
   },
   "file_extension": ".py",
   "mimetype": "text/x-python",
   "name": "python",
   "nbconvert_exporter": "python",
   "pygments_lexer": "ipython3",
   "version": "3.9.13"
  }
 },
 "nbformat": 4,
 "nbformat_minor": 5
}
